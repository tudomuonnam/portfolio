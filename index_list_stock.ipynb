{
 "cells": [
  {
   "cell_type": "code",
   "execution_count": 1,
   "metadata": {},
   "outputs": [],
   "source": [
    "from selenium import webdriver\n",
    "#from selenium.webdriver.common.desired_capabilities import DesiredCapabilities\n",
    "from selenium.webdriver.chrome.options import Options\n",
    "from selenium.webdriver.support.ui import WebDriverWait\n",
    "from selenium.common.exceptions import TimeoutException\n",
    "from selenium.webdriver.support import expected_conditions as EC\n",
    "from selenium.webdriver.common.by import By\n",
    "import pandas as pd\n",
    "#import csv\n",
    "import time\n",
    "#class get_index()\n",
    "chrome_options = Options()\n",
    "chrome_options.add_argument('ignore-certificate-errors') #Configure chrome options\n",
    "chrome_options.add_argument('--headless')"
   ]
  },
  {
   "cell_type": "code",
   "execution_count": 43,
   "metadata": {},
   "outputs": [],
   "source": [
    "VN100 = 'https://www.hsx.vn/Modules/Listed/Web/StockIndexView/188803177'\n",
    "VN30 = 'https://www.hsx.vn/Modules/Listed/Web/StockIndexView/1964531007'\n",
    "VNALL = 'https://www.hsx.vn/Modules/Listed/Web/StockIndexView/951937685'\n",
    "VNMID = 'https://www.hsx.vn/Modules/Listed/Web/StockIndexView/699240157'\n",
    "VNSI = 'https://www.hsx.vn/Modules/Listed/Web/StockIndexView/'\n",
    "VNSML = 'https://www.hsx.vn/Modules/Listed/Web/StockIndexView/434493689'"
   ]
  },
  {
   "cell_type": "code",
   "execution_count": 3,
   "metadata": {},
   "outputs": [],
   "source": [
    "url = VNSML"
   ]
  },
  {
   "cell_type": "code",
   "execution_count": 48,
   "metadata": {},
   "outputs": [],
   "source": [
    "def get_stock_list(url):\n",
    "    drive = webdriver.Chrome(options=chrome_options)\n",
    "    drive.get(url)\n",
    "    #WebDriverWait(drive,20)\n",
    "    time.sleep(15)\n",
    "    #tbl = drive.find_element_by_id('hose-indecies-grid').get_attribute('outerHTML')\n",
    "    tbl = drive.find_element_by_xpath('//*[@id=\"gview_hose-indecies-grid\"]/div[3]').get_attribute('outerHTML')\n",
    "    df = pd.read_html(tbl)\n",
    "    drive.quit()\n",
    "    df = df[0]\n",
    "    df = df.drop([0])\n",
    "  #  cols = [1,4]\n",
    "    df = df[df.columns[[1,4]]]\n",
    "    df.columns = ['sticker','name']\n",
    "    df.drop_duplicates(subset='sticker',keep='first')\n",
    "    return df"
   ]
  },
  {
   "cell_type": "code",
   "execution_count": 35,
   "metadata": {},
   "outputs": [],
   "source": [
    "x = get_stock_list(url)"
   ]
  },
  {
   "cell_type": "code",
   "execution_count": 37,
   "metadata": {},
   "outputs": [],
   "source": [
    "VNSML_data = get_stock_list(VNSML)"
   ]
  },
  {
   "cell_type": "code",
   "execution_count": 39,
   "metadata": {},
   "outputs": [],
   "source": [
    "VNSML_data.to_csv('VNSML_list.csv')"
   ]
  },
  {
   "cell_type": "code",
   "execution_count": 40,
   "metadata": {},
   "outputs": [],
   "source": [
    "VNMID_data = get_stock_list(VNMID)"
   ]
  },
  {
   "cell_type": "code",
   "execution_count": 41,
   "metadata": {},
   "outputs": [
    {
     "data": {
      "text/html": [
       "<div>\n",
       "<style scoped>\n",
       "    .dataframe tbody tr th:only-of-type {\n",
       "        vertical-align: middle;\n",
       "    }\n",
       "\n",
       "    .dataframe tbody tr th {\n",
       "        vertical-align: top;\n",
       "    }\n",
       "\n",
       "    .dataframe thead th {\n",
       "        text-align: right;\n",
       "    }\n",
       "</style>\n",
       "<table border=\"1\" class=\"dataframe\">\n",
       "  <thead>\n",
       "    <tr style=\"text-align: right;\">\n",
       "      <th></th>\n",
       "      <th>sticker</th>\n",
       "      <th>name</th>\n",
       "    </tr>\n",
       "  </thead>\n",
       "  <tbody>\n",
       "    <tr>\n",
       "      <th>1</th>\n",
       "      <td>AAA</td>\n",
       "      <td>Công ty Cổ phần Nhựa An Phát Xanh</td>\n",
       "    </tr>\n",
       "    <tr>\n",
       "      <th>2</th>\n",
       "      <td>ANV</td>\n",
       "      <td>Công ty Cổ phần Nam Việt</td>\n",
       "    </tr>\n",
       "    <tr>\n",
       "      <th>3</th>\n",
       "      <td>ASM</td>\n",
       "      <td>Công ty Cổ phần Tập đoàn Sao Mai</td>\n",
       "    </tr>\n",
       "    <tr>\n",
       "      <th>4</th>\n",
       "      <td>AST</td>\n",
       "      <td>Công ty Cổ phần Dịch vụ Hàng không Taseco</td>\n",
       "    </tr>\n",
       "    <tr>\n",
       "      <th>5</th>\n",
       "      <td>BIC</td>\n",
       "      <td>Tổng Công ty Bảo hiểm Ngân hàng Đầu tư và Phát...</td>\n",
       "    </tr>\n",
       "  </tbody>\n",
       "</table>\n",
       "</div>"
      ],
      "text/plain": [
       "  sticker                                               name\n",
       "1     AAA                  Công ty Cổ phần Nhựa An Phát Xanh\n",
       "2     ANV                           Công ty Cổ phần Nam Việt\n",
       "3     ASM                   Công ty Cổ phần Tập đoàn Sao Mai\n",
       "4     AST          Công ty Cổ phần Dịch vụ Hàng không Taseco\n",
       "5     BIC  Tổng Công ty Bảo hiểm Ngân hàng Đầu tư và Phát..."
      ]
     },
     "execution_count": 41,
     "metadata": {},
     "output_type": "execute_result"
    }
   ],
   "source": [
    "VNMID_data.head()"
   ]
  },
  {
   "cell_type": "code",
   "execution_count": 42,
   "metadata": {},
   "outputs": [],
   "source": [
    "VNMID_data.to_csv(\"VNMID_list.csv\")"
   ]
  },
  {
   "cell_type": "code",
   "execution_count": 47,
   "metadata": {},
   "outputs": [],
   "source": [
    "VN100_data = get_stock_list(VN100)\n",
    "VN100_data.head()\n",
    "VN100_data.to_csv('VN100_list.csv')"
   ]
  },
  {
   "cell_type": "code",
   "execution_count": 49,
   "metadata": {},
   "outputs": [
    {
     "data": {
      "text/html": [
       "<div>\n",
       "<style scoped>\n",
       "    .dataframe tbody tr th:only-of-type {\n",
       "        vertical-align: middle;\n",
       "    }\n",
       "\n",
       "    .dataframe tbody tr th {\n",
       "        vertical-align: top;\n",
       "    }\n",
       "\n",
       "    .dataframe thead th {\n",
       "        text-align: right;\n",
       "    }\n",
       "</style>\n",
       "<table border=\"1\" class=\"dataframe\">\n",
       "  <thead>\n",
       "    <tr style=\"text-align: right;\">\n",
       "      <th></th>\n",
       "      <th>sticker</th>\n",
       "      <th>name</th>\n",
       "    </tr>\n",
       "  </thead>\n",
       "  <tbody>\n",
       "    <tr>\n",
       "      <th>1</th>\n",
       "      <td>AAA</td>\n",
       "      <td>Công ty Cổ phần Nhựa An Phát Xanh</td>\n",
       "    </tr>\n",
       "    <tr>\n",
       "      <th>2</th>\n",
       "      <td>ANV</td>\n",
       "      <td>Công ty Cổ phần Nam Việt</td>\n",
       "    </tr>\n",
       "    <tr>\n",
       "      <th>3</th>\n",
       "      <td>ASM</td>\n",
       "      <td>Công ty Cổ phần Tập đoàn Sao Mai</td>\n",
       "    </tr>\n",
       "    <tr>\n",
       "      <th>4</th>\n",
       "      <td>AST</td>\n",
       "      <td>Công ty Cổ phần Dịch vụ Hàng không Taseco</td>\n",
       "    </tr>\n",
       "    <tr>\n",
       "      <th>5</th>\n",
       "      <td>BIC</td>\n",
       "      <td>Tổng Công ty Bảo hiểm Ngân hàng Đầu tư và Phát...</td>\n",
       "    </tr>\n",
       "    <tr>\n",
       "      <th>...</th>\n",
       "      <td>...</td>\n",
       "      <td>...</td>\n",
       "    </tr>\n",
       "    <tr>\n",
       "      <th>128</th>\n",
       "      <td>VNM</td>\n",
       "      <td>Công ty Cổ phần Sữa Việt Nam</td>\n",
       "    </tr>\n",
       "    <tr>\n",
       "      <th>130</th>\n",
       "      <td>VPB</td>\n",
       "      <td>Ngân hàng TMCP Việt Nam Thịnh Vượng</td>\n",
       "    </tr>\n",
       "    <tr>\n",
       "      <th>132</th>\n",
       "      <td>VPI</td>\n",
       "      <td>Công ty Cổ phần Đầu tư Văn Phú - Invest</td>\n",
       "    </tr>\n",
       "    <tr>\n",
       "      <th>134</th>\n",
       "      <td>VRE</td>\n",
       "      <td>Công ty Cổ phần Vincom Retail</td>\n",
       "    </tr>\n",
       "    <tr>\n",
       "      <th>136</th>\n",
       "      <td>YEG</td>\n",
       "      <td>Công ty Cổ phần Tập đoàn Yeah1</td>\n",
       "    </tr>\n",
       "  </tbody>\n",
       "</table>\n",
       "<p>100 rows × 2 columns</p>\n",
       "</div>"
      ],
      "text/plain": [
       "    sticker                                               name\n",
       "1       AAA                  Công ty Cổ phần Nhựa An Phát Xanh\n",
       "2       ANV                           Công ty Cổ phần Nam Việt\n",
       "3       ASM                   Công ty Cổ phần Tập đoàn Sao Mai\n",
       "4       AST          Công ty Cổ phần Dịch vụ Hàng không Taseco\n",
       "5       BIC  Tổng Công ty Bảo hiểm Ngân hàng Đầu tư và Phát...\n",
       "..      ...                                                ...\n",
       "128     VNM                       Công ty Cổ phần Sữa Việt Nam\n",
       "130     VPB                Ngân hàng TMCP Việt Nam Thịnh Vượng\n",
       "132     VPI            Công ty Cổ phần Đầu tư Văn Phú - Invest\n",
       "134     VRE                      Công ty Cổ phần Vincom Retail\n",
       "136     YEG                     Công ty Cổ phần Tập đoàn Yeah1\n",
       "\n",
       "[100 rows x 2 columns]"
      ]
     },
     "execution_count": 49,
     "metadata": {},
     "output_type": "execute_result"
    }
   ],
   "source": [
    "VN100_data.drop_duplicates(subset='sticker',keep='first')"
   ]
  },
  {
   "cell_type": "code",
   "execution_count": null,
   "metadata": {},
   "outputs": [],
   "source": []
  }
 ],
 "metadata": {
  "kernelspec": {
   "display_name": "Python 3",
   "language": "python",
   "name": "python3"
  },
  "language_info": {
   "codemirror_mode": {
    "name": "ipython",
    "version": 3
   },
   "file_extension": ".py",
   "mimetype": "text/x-python",
   "name": "python",
   "nbconvert_exporter": "python",
   "pygments_lexer": "ipython3",
   "version": "3.8.3"
  }
 },
 "nbformat": 4,
 "nbformat_minor": 4
}
