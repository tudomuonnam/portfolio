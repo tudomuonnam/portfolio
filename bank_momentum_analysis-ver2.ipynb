{
 "cells": [
  {
   "cell_type": "code",
   "execution_count": 86,
   "metadata": {},
   "outputs": [],
   "source": [
    "from datetime import datetime \n",
    "import pandas as pd\n",
    "import matplotlib.pyplot as plt\n",
    "import numpy as np\n",
    "import ffn\n",
    "import os\n",
    "import path\n",
    "%matplotlib inline\n",
    "plt.rcParams[\"figure.figsize\"] = (10, 6) # (w, h)\n",
    "#plt.ioff()"
   ]
  },
  {
   "cell_type": "markdown",
   "metadata": {},
   "source": [
    "Idear and formular most from this artice\n",
    "https://www.linkedin.com/pulse/blacklitterman-model-asset-allocation-top-20-indian-companies-jana/"
   ]
  },
  {
   "cell_type": "code",
   "execution_count": 103,
   "metadata": {},
   "outputs": [],
   "source": [
    "# Test with some bank in Vietnam\n",
    "#tickers = ['VCB','BID','ACB','HDB','TPB','MBB','BAB','TCB','CTG','VPB','EIB','VIB','STB','KLB','NVB','LPB','SHB']\n",
    "tickers = ['VN30INDEX','VCB','BID','ACB','HDB','TPB','MBB','TCB','CTG','VPB','EIB','STB']"
   ]
  },
  {
   "cell_type": "code",
   "execution_count": 104,
   "metadata": {},
   "outputs": [
    {
     "data": {
      "text/plain": [
       "[]"
      ]
     },
     "execution_count": 104,
     "metadata": {},
     "output_type": "execute_result"
    }
   ],
   "source": [
    "available_sticker = [fileName.split('.')[0] for fileName in os.listdir('data/') if fileName.endswith('csv')]\n",
    "download_sticker = [sticker for sticker in tickers if (sticker not in available_sticker)]\n",
    "download_sticker"
   ]
  },
  {
   "cell_type": "code",
   "execution_count": 105,
   "metadata": {},
   "outputs": [],
   "source": [
    "df = (pd.concat(\n",
    "    [pd.read_csv(f'data/{ticker}.csv',index_col='date',parse_dates=True)['adj_close'].rename(ticker) for ticker in tickers]\n",
    "    ,axis=1,sort=True))"
   ]
  },
  {
   "cell_type": "code",
   "execution_count": 106,
   "metadata": {},
   "outputs": [
    {
     "data": {
      "text/html": [
       "<div>\n",
       "<style scoped>\n",
       "    .dataframe tbody tr th:only-of-type {\n",
       "        vertical-align: middle;\n",
       "    }\n",
       "\n",
       "    .dataframe tbody tr th {\n",
       "        vertical-align: top;\n",
       "    }\n",
       "\n",
       "    .dataframe thead th {\n",
       "        text-align: right;\n",
       "    }\n",
       "</style>\n",
       "<table border=\"1\" class=\"dataframe\">\n",
       "  <thead>\n",
       "    <tr style=\"text-align: right;\">\n",
       "      <th></th>\n",
       "      <th>VN30INDEX</th>\n",
       "      <th>VCB</th>\n",
       "      <th>BID</th>\n",
       "      <th>ACB</th>\n",
       "      <th>HDB</th>\n",
       "      <th>TPB</th>\n",
       "      <th>MBB</th>\n",
       "      <th>TCB</th>\n",
       "      <th>CTG</th>\n",
       "      <th>VPB</th>\n",
       "      <th>EIB</th>\n",
       "      <th>STB</th>\n",
       "    </tr>\n",
       "    <tr>\n",
       "      <th>date</th>\n",
       "      <th></th>\n",
       "      <th></th>\n",
       "      <th></th>\n",
       "      <th></th>\n",
       "      <th></th>\n",
       "      <th></th>\n",
       "      <th></th>\n",
       "      <th></th>\n",
       "      <th></th>\n",
       "      <th></th>\n",
       "      <th></th>\n",
       "      <th></th>\n",
       "    </tr>\n",
       "  </thead>\n",
       "  <tbody>\n",
       "    <tr>\n",
       "      <th>2020-01-02</th>\n",
       "      <td>886.88</td>\n",
       "      <td>90.8</td>\n",
       "      <td>46.90</td>\n",
       "      <td>17.70</td>\n",
       "      <td>21.38</td>\n",
       "      <td>21.30</td>\n",
       "      <td>18.44</td>\n",
       "      <td>23.80</td>\n",
       "      <td>21.50</td>\n",
       "      <td>20.55</td>\n",
       "      <td>17.70</td>\n",
       "      <td>10.20</td>\n",
       "    </tr>\n",
       "    <tr>\n",
       "      <th>2020-01-03</th>\n",
       "      <td>883.28</td>\n",
       "      <td>89.9</td>\n",
       "      <td>46.70</td>\n",
       "      <td>17.70</td>\n",
       "      <td>21.19</td>\n",
       "      <td>21.50</td>\n",
       "      <td>18.48</td>\n",
       "      <td>23.65</td>\n",
       "      <td>21.30</td>\n",
       "      <td>20.40</td>\n",
       "      <td>17.25</td>\n",
       "      <td>10.20</td>\n",
       "    </tr>\n",
       "    <tr>\n",
       "      <th>2020-01-08</th>\n",
       "      <td>865.18</td>\n",
       "      <td>87.0</td>\n",
       "      <td>47.10</td>\n",
       "      <td>17.01</td>\n",
       "      <td>20.54</td>\n",
       "      <td>20.90</td>\n",
       "      <td>18.00</td>\n",
       "      <td>22.75</td>\n",
       "      <td>21.65</td>\n",
       "      <td>20.10</td>\n",
       "      <td>17.30</td>\n",
       "      <td>9.98</td>\n",
       "    </tr>\n",
       "    <tr>\n",
       "      <th>2020-01-09</th>\n",
       "      <td>877.76</td>\n",
       "      <td>88.7</td>\n",
       "      <td>49.65</td>\n",
       "      <td>17.24</td>\n",
       "      <td>21.15</td>\n",
       "      <td>21.10</td>\n",
       "      <td>18.31</td>\n",
       "      <td>23.05</td>\n",
       "      <td>22.45</td>\n",
       "      <td>20.75</td>\n",
       "      <td>17.45</td>\n",
       "      <td>10.15</td>\n",
       "    </tr>\n",
       "    <tr>\n",
       "      <th>2020-01-10</th>\n",
       "      <td>885.52</td>\n",
       "      <td>89.5</td>\n",
       "      <td>51.30</td>\n",
       "      <td>17.47</td>\n",
       "      <td>21.61</td>\n",
       "      <td>21.50</td>\n",
       "      <td>18.61</td>\n",
       "      <td>23.15</td>\n",
       "      <td>23.55</td>\n",
       "      <td>21.05</td>\n",
       "      <td>18.00</td>\n",
       "      <td>10.50</td>\n",
       "    </tr>\n",
       "    <tr>\n",
       "      <th>...</th>\n",
       "      <td>...</td>\n",
       "      <td>...</td>\n",
       "      <td>...</td>\n",
       "      <td>...</td>\n",
       "      <td>...</td>\n",
       "      <td>...</td>\n",
       "      <td>...</td>\n",
       "      <td>...</td>\n",
       "      <td>...</td>\n",
       "      <td>...</td>\n",
       "      <td>...</td>\n",
       "      <td>...</td>\n",
       "    </tr>\n",
       "    <tr>\n",
       "      <th>2020-10-12</th>\n",
       "      <td>874.90</td>\n",
       "      <td>85.9</td>\n",
       "      <td>40.95</td>\n",
       "      <td>23.30</td>\n",
       "      <td>24.35</td>\n",
       "      <td>24.80</td>\n",
       "      <td>17.55</td>\n",
       "      <td>21.20</td>\n",
       "      <td>29.10</td>\n",
       "      <td>23.40</td>\n",
       "      <td>17.20</td>\n",
       "      <td>13.30</td>\n",
       "    </tr>\n",
       "    <tr>\n",
       "      <th>2020-10-13</th>\n",
       "      <td>878.35</td>\n",
       "      <td>86.5</td>\n",
       "      <td>41.25</td>\n",
       "      <td>23.40</td>\n",
       "      <td>24.00</td>\n",
       "      <td>24.85</td>\n",
       "      <td>17.50</td>\n",
       "      <td>21.40</td>\n",
       "      <td>30.55</td>\n",
       "      <td>23.40</td>\n",
       "      <td>17.40</td>\n",
       "      <td>13.45</td>\n",
       "    </tr>\n",
       "    <tr>\n",
       "      <th>2020-10-14</th>\n",
       "      <td>892.15</td>\n",
       "      <td>88.2</td>\n",
       "      <td>42.90</td>\n",
       "      <td>24.00</td>\n",
       "      <td>24.25</td>\n",
       "      <td>25.00</td>\n",
       "      <td>17.65</td>\n",
       "      <td>22.85</td>\n",
       "      <td>30.00</td>\n",
       "      <td>24.00</td>\n",
       "      <td>17.40</td>\n",
       "      <td>13.50</td>\n",
       "    </tr>\n",
       "    <tr>\n",
       "      <th>2020-10-15</th>\n",
       "      <td>899.20</td>\n",
       "      <td>88.6</td>\n",
       "      <td>42.25</td>\n",
       "      <td>24.50</td>\n",
       "      <td>24.60</td>\n",
       "      <td>24.80</td>\n",
       "      <td>17.60</td>\n",
       "      <td>22.85</td>\n",
       "      <td>30.05</td>\n",
       "      <td>24.05</td>\n",
       "      <td>17.60</td>\n",
       "      <td>13.85</td>\n",
       "    </tr>\n",
       "    <tr>\n",
       "      <th>2020-10-16</th>\n",
       "      <td>901.59</td>\n",
       "      <td>88.2</td>\n",
       "      <td>42.20</td>\n",
       "      <td>24.70</td>\n",
       "      <td>24.80</td>\n",
       "      <td>24.95</td>\n",
       "      <td>17.85</td>\n",
       "      <td>22.65</td>\n",
       "      <td>31.15</td>\n",
       "      <td>24.60</td>\n",
       "      <td>17.35</td>\n",
       "      <td>13.75</td>\n",
       "    </tr>\n",
       "  </tbody>\n",
       "</table>\n",
       "<p>180 rows × 12 columns</p>\n",
       "</div>"
      ],
      "text/plain": [
       "            VN30INDEX   VCB    BID    ACB    HDB    TPB    MBB    TCB    CTG  \\\n",
       "date                                                                           \n",
       "2020-01-02     886.88  90.8  46.90  17.70  21.38  21.30  18.44  23.80  21.50   \n",
       "2020-01-03     883.28  89.9  46.70  17.70  21.19  21.50  18.48  23.65  21.30   \n",
       "2020-01-08     865.18  87.0  47.10  17.01  20.54  20.90  18.00  22.75  21.65   \n",
       "2020-01-09     877.76  88.7  49.65  17.24  21.15  21.10  18.31  23.05  22.45   \n",
       "2020-01-10     885.52  89.5  51.30  17.47  21.61  21.50  18.61  23.15  23.55   \n",
       "...               ...   ...    ...    ...    ...    ...    ...    ...    ...   \n",
       "2020-10-12     874.90  85.9  40.95  23.30  24.35  24.80  17.55  21.20  29.10   \n",
       "2020-10-13     878.35  86.5  41.25  23.40  24.00  24.85  17.50  21.40  30.55   \n",
       "2020-10-14     892.15  88.2  42.90  24.00  24.25  25.00  17.65  22.85  30.00   \n",
       "2020-10-15     899.20  88.6  42.25  24.50  24.60  24.80  17.60  22.85  30.05   \n",
       "2020-10-16     901.59  88.2  42.20  24.70  24.80  24.95  17.85  22.65  31.15   \n",
       "\n",
       "              VPB    EIB    STB  \n",
       "date                             \n",
       "2020-01-02  20.55  17.70  10.20  \n",
       "2020-01-03  20.40  17.25  10.20  \n",
       "2020-01-08  20.10  17.30   9.98  \n",
       "2020-01-09  20.75  17.45  10.15  \n",
       "2020-01-10  21.05  18.00  10.50  \n",
       "...           ...    ...    ...  \n",
       "2020-10-12  23.40  17.20  13.30  \n",
       "2020-10-13  23.40  17.40  13.45  \n",
       "2020-10-14  24.00  17.40  13.50  \n",
       "2020-10-15  24.05  17.60  13.85  \n",
       "2020-10-16  24.60  17.35  13.75  \n",
       "\n",
       "[180 rows x 12 columns]"
      ]
     },
     "execution_count": 106,
     "metadata": {},
     "output_type": "execute_result"
    }
   ],
   "source": [
    "df = df['2020-01-01':]\n",
    "df = df.dropna()\n",
    "df"
   ]
  },
  {
   "cell_type": "code",
   "execution_count": 107,
   "metadata": {},
   "outputs": [],
   "source": [
    "market_prices = df['VN30INDEX']\n",
    "prices = df.loc[:,prices.columns != 'VN30INDEX']"
   ]
  },
  {
   "cell_type": "code",
   "execution_count": 108,
   "metadata": {},
   "outputs": [
    {
     "name": "stdout",
     "output_type": "stream",
     "text": [
      "0.47411160621758147\n"
     ]
    }
   ],
   "source": [
    "import pypfopt as pyp\n",
    "# calculate asset covariance and delta\n",
    "# market-implied risk premium, which is the market’s excess return divided by its variance\n",
    "S = pyp.risk_models.CovarianceShrinkage(prices).ledoit_wolf()\n",
    "delta = pyp.black_litterman.market_implied_risk_aversion(market_prices, risk_free_rate=0.0253)\n",
    "print(delta)"
   ]
  },
  {
   "cell_type": "code",
   "execution_count": 109,
   "metadata": {},
   "outputs": [
    {
     "data": {
      "image/png": "[encoded data removed]",
      "text/plain": [
       "<Figure size 720x576 with 2 Axes>"
      ]
     },
     "metadata": {
      "needs_background": "light"
     },
     "output_type": "display_data"
    }
   ],
   "source": [
    "import seaborn as sns\n",
    "fig, ax = plt.subplots(figsize=(10,8))\n",
    "sns.heatmap(prices.pct_change().corr(method ='spearman'), ax=ax, cmap='coolwarm', annot=True, fmt=\".2f\")\n",
    "ax.set_title('Assets Correlation Matrix')\n",
    "plt.savefig('images/chart1', dpi=300) "
   ]
  },
  {
   "cell_type": "code",
   "execution_count": 110,
   "metadata": {},
   "outputs": [
    {
     "data": {
      "text/plain": [
       "['VCB', 'BID', 'ACB', 'HDB', 'TPB', 'MBB', 'TCB', 'CTG', 'VPB', 'EIB', 'STB']"
      ]
     },
     "execution_count": 110,
     "metadata": {},
     "output_type": "execute_result"
    }
   ],
   "source": [
    "tickers[1:]"
   ]
  },
  {
   "cell_type": "code",
   "execution_count": 111,
   "metadata": {},
   "outputs": [
    {
     "name": "stdout",
     "output_type": "stream",
     "text": [
      "VN30INDEX\n"
     ]
    }
   ],
   "source": [
    "mcap = pd.read_csv('bank_market_caps.csv')\n",
    "mcap_dict = {ticker : cap for ticker, cap in zip(tickers[1:], mcap['Market Cap'].values)}#mcap['Tickers'].values\n",
    "for ticker in tickers:\n",
    "    if ticker not in mcap['Tickers'].values: print(ticker)"
   ]
  },
  {
   "cell_type": "code",
   "execution_count": 112,
   "metadata": {},
   "outputs": [
    {
     "name": "stdout",
     "output_type": "stream",
     "text": [
      "VCB    0.052692\n",
      "BID    0.078351\n",
      "ACB    0.071821\n",
      "HDB    0.061143\n",
      "TPB    0.053623\n",
      "MBB    0.068622\n",
      "TCB    0.068091\n",
      "CTG    0.074787\n",
      "VPB    0.073147\n",
      "EIB    0.031083\n",
      "STB    0.069675\n",
      "Name: Prior, dtype: float64\n"
     ]
    }
   ],
   "source": [
    "# calculate prior - market implied retunrs\n",
    "market_prior = pyp.black_litterman.market_implied_prior_returns(mcap_dict, delta, S)\n",
    "market_prior.name = 'Prior'\n",
    "print(market_prior)"
   ]
  },
  {
   "cell_type": "code",
   "execution_count": 113,
   "metadata": {},
   "outputs": [
    {
     "data": {
      "image/png": "[encoded data removed]",
      "text/plain": [
       "<Figure size 864x432 with 1 Axes>"
      ]
     },
     "metadata": {
      "needs_background": "light"
     },
     "output_type": "display_data"
    }
   ],
   "source": [
    "market_prior.plot.barh(figsize=(12,6), title = 'Priors - Market Implied Returns',grid=True);\n",
    "plt.savefig('images/chart2', dpi=300)"
   ]
  },
  {
   "cell_type": "code",
   "execution_count": 114,
   "metadata": {},
   "outputs": [
    {
     "data": {
      "text/plain": [
       "VCB   -0.040075\n",
       "BID   -0.138140\n",
       "ACB    0.598619\n",
       "HDB    0.232326\n",
       "TPB    0.249409\n",
       "MBB   -0.044748\n",
       "TCB   -0.067348\n",
       "CTG    0.685337\n",
       "VPB    0.288201\n",
       "EIB   -0.027726\n",
       "STB    0.522643\n",
       "Name: Historical, dtype: float64"
      ]
     },
     "execution_count": 114,
     "metadata": {},
     "output_type": "execute_result"
    }
   ],
   "source": [
    "# get historical returns\n",
    "mu = pyp.expected_returns.mean_historical_return(prices)\n",
    "mu.name = 'Historical'\n",
    "mu"
   ]
  },
  {
   "cell_type": "code",
   "execution_count": 115,
   "metadata": {},
   "outputs": [
    {
     "data": {
      "text/plain": [
       "VCB    0.119128\n",
       "BID    0.034244\n",
       "ACB    1.000062\n",
       "HDB    0.562963\n",
       "TPB    0.474896\n",
       "MBB    0.194358\n",
       "TCB    0.153317\n",
       "CTG    1.102585\n",
       "VPB    0.437917\n",
       "EIB    0.038175\n",
       "STB    0.904055\n",
       "Name: ema, dtype: float64"
      ]
     },
     "execution_count": 115,
     "metadata": {},
     "output_type": "execute_result"
    }
   ],
   "source": [
    "# Posterior estimate of returns\n",
    "from pypfopt.expected_returns import ema_historical_return\n",
    "ema_returns = ema_historical_return(prices)\n",
    "ema_returns.name = 'ema'\n",
    "ema_returns"
   ]
  },
  {
   "cell_type": "code",
   "execution_count": 116,
   "metadata": {},
   "outputs": [
    {
     "data": {
      "text/plain": [
       "VCB    0.158795\n",
       "BID    0.248512\n",
       "ACB    0.237631\n",
       "HDB    0.213403\n",
       "TPB    0.172144\n",
       "MBB    0.236467\n",
       "TCB    0.239432\n",
       "CTG    0.255434\n",
       "VPB    0.258338\n",
       "EIB    0.065784\n",
       "STB    0.253832\n",
       "Name: mkt, dtype: float64"
      ]
     },
     "execution_count": 116,
     "metadata": {},
     "output_type": "execute_result"
    }
   ],
   "source": [
    "pyp.expected_returns.capm_return(prices)"
   ]
  },
  {
   "cell_type": "code",
   "execution_count": null,
   "metadata": {},
   "outputs": [],
   "source": []
  },
  {
   "cell_type": "code",
   "execution_count": null,
   "metadata": {},
   "outputs": [],
   "source": []
  }
 ],
 "metadata": {
  "kernelspec": {
   "display_name": "Python 3",
   "language": "python",
   "name": "python3"
  },
  "language_info": {
   "codemirror_mode": {
    "name": "ipython",
    "version": 3
   },
   "file_extension": ".py",
   "mimetype": "text/x-python",
   "name": "python",
   "nbconvert_exporter": "python",
   "pygments_lexer": "ipython3",
   "version": "3.8.3"
  }
 },
 "nbformat": 4,
 "nbformat_minor": 4
}
